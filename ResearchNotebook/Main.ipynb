{
 "nbformat": 4,
 "nbformat_minor": 5,
 "metadata": {
  "kernelspec": {
   "display_name": "ADGAT",
   "language": "python",
   "name": "adgat"
  },
  "language_info": {
   "codemirror_mode": {
    "name": "ipython",
    "version": 3
   },
   "file_extension": ".py",
   "mimetype": "text/x-python",
   "name": "python",
   "nbconvert_exporter": "python",
   "pygments_lexer": "ipython3",
   "version": "3.7.11"
  },
  "colab": {
   "name": "Main.ipynb",
   "provenance": []
  }
 },
 "cells": [
  {
   "cell_type": "code",
   "metadata": {
    "colab": {
     "base_uri": "https://localhost:8080/"
    },
    "id": "30be91f9",
    "executionInfo": {
     "status": "ok",
     "timestamp": 1638373918979,
     "user_tz": -480,
     "elapsed": 300,
     "user": {
      "displayName": "Jinze Chen",
      "photoUrl": "https://lh3.googleusercontent.com/a-/AOh14GinZ3R4cmGUBE8fbLsBEgI92tUBuLZMWpHfajWNok8=s64",
      "userId": "12290342897994188400"
     }
    },
    "outputId": "422bcb7c-3463-4865-f536-96b447a17d27"
   },
   "source": [
    "import sys\n",
    "import os\n",
    "from google.colab import drive\n",
    "drive.mount('/content/gdrive/')\n",
    "os.chdir('/content/gdrive/MyDrive/Colab Notebooks/cs7643-final-project/ResearchNotebook')\n",
    "sys.path.append(\"..\")"
   ],
   "id": "30be91f9",
   "execution_count": 6,
   "outputs": [
    {
     "output_type": "stream",
     "name": "stdout",
     "text": [
      "Drive already mounted at /content/gdrive/; to attempt to forcibly remount, call drive.mount(\"/content/gdrive/\", force_remount=True).\n"
     ]
    }
   ]
  },
  {
   "cell_type": "code",
   "metadata": {
    "colab": {
     "base_uri": "https://localhost:8080/",
     "height": 288
    },
    "id": "674988a2",
    "executionInfo": {
     "status": "error",
     "timestamp": 1638373937759,
     "user_tz": -480,
     "elapsed": 9339,
     "user": {
      "displayName": "Jinze Chen",
      "photoUrl": "https://lh3.googleusercontent.com/a-/AOh14GinZ3R4cmGUBE8fbLsBEgI92tUBuLZMWpHfajWNok8=s64",
      "userId": "12290342897994188400"
     }
    },
    "outputId": "e7f89417-d36f-4e1d-fdf6-d36e4c42cd0e"
   },
   "source": [
    "from Research import research"
   ],
   "id": "674988a2",
   "execution_count": 8,
   "outputs": [
    {
     "output_type": "error",
     "ename": "TypeError",
     "evalue": "ignored",
     "traceback": [
      "\u001B[0;31m---------------------------------------------------------------------------\u001B[0m",
      "\u001B[0;31mTypeError\u001B[0m                                 Traceback (most recent call last)",
      "\u001B[0;32m<ipython-input-8-53752a7f5488>\u001B[0m in \u001B[0;36m<module>\u001B[0;34m()\u001B[0m\n\u001B[0;32m----> 1\u001B[0;31m \u001B[0;32mfrom\u001B[0m \u001B[0mResearch\u001B[0m \u001B[0;32mimport\u001B[0m \u001B[0mresearch\u001B[0m\u001B[0;34m\u001B[0m\u001B[0;34m\u001B[0m\u001B[0m\n\u001B[0m",
      "\u001B[0;32m/content/gdrive/MyDrive/Colab Notebooks/cs7643-final-project/ResearchNotebook/Research.py\u001B[0m in \u001B[0;36m<module>\u001B[0;34m()\u001B[0m\n\u001B[1;32m     16\u001B[0m \u001B[0mwait_epoch_threshold\u001B[0m \u001B[0;34m=\u001B[0m \u001B[0;36m30\u001B[0m\u001B[0;34m\u001B[0m\u001B[0;34m\u001B[0m\u001B[0m\n\u001B[1;32m     17\u001B[0m \u001B[0msave\u001B[0m \u001B[0;34m=\u001B[0m \u001B[0;32mTrue\u001B[0m\u001B[0;34m\u001B[0m\u001B[0;34m\u001B[0m\u001B[0m\n\u001B[0;32m---> 18\u001B[0;31m \u001B[0mDEVICE\u001B[0m \u001B[0;34m=\u001B[0m \u001B[0;34m\"cuda:\"\u001B[0m \u001B[0;34m+\u001B[0m \u001B[0mdevice\u001B[0m\u001B[0;34m\u001B[0m\u001B[0;34m\u001B[0m\u001B[0m\n\u001B[0m\u001B[1;32m     19\u001B[0m \u001B[0;31m# DEVICE = \"cpu\"\u001B[0m\u001B[0;34m\u001B[0m\u001B[0;34m\u001B[0m\u001B[0;34m\u001B[0m\u001B[0m\n\u001B[1;32m     20\u001B[0m \u001B[0;34m\u001B[0m\u001B[0m\n",
      "\u001B[0;31mTypeError\u001B[0m: can only concatenate str (not \"int\") to str"
     ]
    }
   ]
  },
  {
   "cell_type": "code",
   "metadata": {
    "id": "1eb20418",
    "executionInfo": {
     "status": "aborted",
     "timestamp": 1638373937757,
     "user_tz": -480,
     "elapsed": 22,
     "user": {
      "displayName": "Jinze Chen",
      "photoUrl": "https://lh3.googleusercontent.com/a-/AOh14GinZ3R4cmGUBE8fbLsBEgI92tUBuLZMWpHfajWNok8=s64",
      "userId": "12290342897994188400"
     }
    }
   },
   "source": [
    "# args:\n",
    "max_epoch = 100\n",
    "wait_epoch = 20\n",
    "lr = 5e-4\n",
    "weight_constraint = 1e-5 # L2 weight constraint\n",
    "dropout = 0.2\n",
    "clip = 0.25\n",
    "random_seed=2021"
   ],
   "id": "1eb20418",
   "execution_count": null,
   "outputs": []
  },
  {
   "cell_type": "code",
   "metadata": {
    "id": "c6da8be1",
    "executionInfo": {
     "status": "aborted",
     "timestamp": 1638373937759,
     "user_tz": -480,
     "elapsed": 24,
     "user": {
      "displayName": "Jinze Chen",
      "photoUrl": "https://lh3.googleusercontent.com/a-/AOh14GinZ3R4cmGUBE8fbLsBEgI92tUBuLZMWpHfajWNok8=s64",
      "userId": "12290342897994188400"
     }
    }
   },
   "source": [
    "for relation in [\"customer\", \"supply\", \"competition\", \"all\"]:\n",
    "    for rnn_length in [20, 30]:\n",
    "        for hidn_att in [40, 60, 80]:\n",
    "            for hidn_rnn in [128, 256, 512]:\n",
    "                for heads_att in [4, 6, 8]:\n",
    "                    research(max_epoch=max_epoch, hidn_rnn=hidn_rnn, heads_att=heads_att, hidn_att=hidn_att, lr=lr, rnn_length=rnn_length, weight_constraint=weight_constraint, dropout=dropout, clip=clip,\n",
    "                             model_name=\"AD_GAT\", relation=relation, random_seed=random_seed)"
   ],
   "id": "c6da8be1",
   "execution_count": null,
   "outputs": []
  },
  {
   "cell_type": "code",
   "metadata": {
    "id": "JSjv9ABzsTg_"
   },
   "source": [
    ""
   ],
   "id": "JSjv9ABzsTg_",
   "execution_count": null,
   "outputs": []
  }
 ]
}