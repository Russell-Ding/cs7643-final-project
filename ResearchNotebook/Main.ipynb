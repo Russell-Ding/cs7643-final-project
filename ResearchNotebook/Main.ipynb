{
 "cells": [
  {
   "cell_type": "code",
   "execution_count": 1,
   "id": "30be91f9",
   "metadata": {},
   "outputs": [],
   "source": [
    "import sys\n",
    "sys.path.append(\"..\")"
   ]
  },
  {
   "cell_type": "code",
   "execution_count": 2,
   "id": "674988a2",
   "metadata": {},
   "outputs": [],
   "source": [
    "from Research import research"
   ]
  },
  {
   "cell_type": "code",
   "execution_count": 3,
   "id": "1eb20418",
   "metadata": {},
   "outputs": [],
   "source": [
    "# args:\n",
    "max_epoch = 100\n",
    "wait_epoch = 20\n",
    "lr = 5e-4\n",
    "weight_constraint = 1e-5 # L2 weight constraint\n",
    "dropout = 0.2\n",
    "clip = 0.25\n",
    "random_seed=2021"
   ]
  },
  {
   "cell_type": "code",
   "execution_count": null,
   "id": "c6da8be1",
   "metadata": {},
   "outputs": [],
   "source": [
    "for relation in [\"customer\", \"supply\", \"competition\", \"all\"]:\n",
    "    for rnn_length in [20, 30]:\n",
    "        for hidn_att in [40, 60, 80]:\n",
    "            for hidn_rnn in [128, 256, 512]:\n",
    "                for heads_att in [4, 6, 8]:\n",
    "                    research(max_epoch=max_epoch, hidn_rnn=hidn_rnn, heads_att=heads_att, hidn_att=hidn_att, lr=lr, rnn_length=rnn_length, weight_constraint=weight_constraint, dropout=dropout, clip=clip,\n",
    "                             model_name=\"AD_GAT\", relation=relation, random_seed=random_seed)"
   ]
  }
 ],
 "metadata": {
  "kernelspec": {
   "display_name": "ADGAT",
   "language": "python",
   "name": "adgat"
  },
  "language_info": {
   "codemirror_mode": {
    "name": "ipython",
    "version": 3
   },
   "file_extension": ".py",
   "mimetype": "text/x-python",
   "name": "python",
   "nbconvert_exporter": "python",
   "pygments_lexer": "ipython3",
   "version": "3.7.11"
  }
 },
 "nbformat": 4,
 "nbformat_minor": 5
}